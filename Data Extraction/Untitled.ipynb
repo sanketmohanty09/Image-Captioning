{
 "cells": [
  {
   "cell_type": "code",
   "execution_count": null,
   "id": "fb07049a",
   "metadata": {},
   "outputs": [],
   "source": [
    "def load_def(filename):\n",
    "  file = open(filename,'r')\n",
    "  text = file.read()\n",
    "  file.close()\n",
    "  return text\n",
    "\n",
    "filename='/content/drive/MyDrive/Image Captioning/Flickr8k_text/Flickr8k.token.txt'\n",
    "doc= load_def(filename)"
   ]
  },
  {
   "cell_type": "markdown",
   "id": "af0c84cb",
   "metadata": {},
   "source": [
    "This function takes the doc.txt file and returns a dictionary with image_id as its key and image_description as its value"
   ]
  },
  {
   "cell_type": "code",
   "execution_count": null,
   "id": "b47bca20",
   "metadata": {},
   "outputs": [],
   "source": [
    "def load_description(doc):\n",
    "  mapping=dict()\n",
    "  for line in doc.split('\\n'):\n",
    "    ###Spliting the lines by white space\n",
    "    tokens=line.split()\n",
    "    if len(line)<2:\n",
    "      continue\n",
    "    image_id,image_desc = tokens[0],tokens[1:]\n",
    "    image_id=image_id.split('.')[0]\n",
    "    image_desc=' '.join(image_desc)\n",
    "    if image_id not in mapping:\n",
    "      mapping[image_id]=list()\n",
    "    mapping[image_id].append(image_desc)\n",
    "  return mapping\n",
    "\n",
    "descriptions=load_description(doc)\n",
    "print('Loaded: %d' % len(descriptions))"
   ]
  },
  {
   "cell_type": "markdown",
   "id": "ca527964",
   "metadata": {},
   "source": [
    "This Function a basic cleaning of the dataset by doing the following steps\n",
    "\n",
    "\n",
    "1-Convert all words to lowercase\n",
    "\n",
    "2-Remove all the punctuations\n",
    "\n",
    "3-Remove all words that are one character or less in length \n",
    "\n",
    "4-Remove all words with number in them"
   ]
  },
  {
   "cell_type": "code",
   "execution_count": null,
   "id": "db9fff5d",
   "metadata": {},
   "outputs": [],
   "source": [
    "import string\n",
    "def clean_descriptions(descriptions):\n",
    "  table= str.maketrans('','',string.punctuation)\n",
    "  for key,desc_list in descriptions.items():\n",
    "    for i in range(len(desc_list)):\n",
    "      desc=desc_list[i]\n",
    "      desc=desc.split()\n",
    "      desc=[word.lower() for word in desc]\n",
    "      ###removes punctuation\n",
    "      desc=[w.translate(table) for w in desc]\n",
    "      desc=[word for word in desc if len(word)>1]\n",
    "      ###removes the tokens with number in them\n",
    "      desc=[word for word in desc if word.isalpha()]\n",
    "      desc_list[i]=' '.join(desc)\n",
    "\n",
    "clean_descriptions(descriptions)"
   ]
  },
  {
   "cell_type": "code",
   "execution_count": null,
   "id": "66335e24",
   "metadata": {},
   "outputs": [],
   "source": [
    "def to_vocabulary(descriptions):\n",
    "  all_desc=set()\n",
    "  for key in descriptions.keys():\n",
    "    [all_desc.update(d.split()) for d in descriptions[key]]\n",
    "  return all_desc\n",
    "vocabulary = to_vocabulary(descriptions)\n",
    "print('Vocabulary Size:%d '% len(vocabulary))"
   ]
  },
  {
   "cell_type": "code",
   "execution_count": null,
   "id": "2057e6e0",
   "metadata": {},
   "outputs": [],
   "source": [
    "def save_descriptions(descriptions, filename):\n",
    "\tlines = list()\n",
    "\tfor key, desc_list in descriptions.items():\n",
    "\t\tfor desc in desc_list:\n",
    "\t\t\tlines.append(key + ' ' + desc)\n",
    "\tdata = '\\n'.join(lines)\n",
    "\tfile = open(filename, 'w')\n",
    "\tfile.write(data)\n",
    "\tfile.close()\n",
    " \n",
    "# save descriptions\n",
    "save_descriptions(descriptions, 'descriptions.txt')"
   ]
  }
 ],
 "metadata": {
  "kernelspec": {
   "display_name": "Python 3",
   "language": "python",
   "name": "python3"
  },
  "language_info": {
   "codemirror_mode": {
    "name": "ipython",
    "version": 3
   },
   "file_extension": ".py",
   "mimetype": "text/x-python",
   "name": "python",
   "nbconvert_exporter": "python",
   "pygments_lexer": "ipython3",
   "version": "3.8.10"
  }
 },
 "nbformat": 4,
 "nbformat_minor": 5
}
